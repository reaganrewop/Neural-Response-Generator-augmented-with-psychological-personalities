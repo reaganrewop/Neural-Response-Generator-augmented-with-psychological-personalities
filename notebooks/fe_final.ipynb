{
 "cells": [
  {
   "cell_type": "code",
   "execution_count": 1,
   "metadata": {
    "application/vnd.databricks.v1+cell": {
     "inputWidgets": {},
     "nuid": "86839722-1313-4a50-b4ab-736499a4eb73",
     "showTitle": false,
     "title": ""
    }
   },
   "outputs": [],
   "source": [
    "import sys\n",
    "sys.path.append(\"/dbfs/grimlock/sri/sidework/\")\n",
    "\n",
    "root_path = \"/dbfs/grimlock/sri/sidework/\"\n",
    "root_path = \"/Users/sa/CS/stanford/cs229/Project/Neural-Response-Generator-augmented-with-psychological-personalities/\""
   ]
  },
  {
   "cell_type": "code",
   "execution_count": 2,
   "metadata": {
    "application/vnd.databricks.v1+cell": {
     "inputWidgets": {},
     "nuid": "67ff0973-a9ba-476b-86e7-498fc668765f",
     "showTitle": false,
     "title": ""
    }
   },
   "outputs": [
    {
     "name": "stderr",
     "output_type": "stream",
     "text": [
      "[nltk_data] Downloading package wordnet to /tmp/nltk_data...\n",
      "[nltk_data]   Package wordnet is already up-to-date!\n",
      "[nltk_data] Downloading package stopwords to /tmp/nltk_data...\n",
      "[nltk_data]   Package stopwords is already up-to-date!\n",
      "[nltk_data] Downloading package averaged_perceptron_tagger to\n",
      "[nltk_data]     /tmp/nltk_data...\n",
      "[nltk_data]   Package averaged_perceptron_tagger is already up-to-\n",
      "[nltk_data]       date!\n",
      "[nltk_data] Downloading package punkt to /tmp/nltk_data...\n",
      "[nltk_data]   Package punkt is already up-to-date!\n"
     ]
    }
   ],
   "source": [
    "import pandas as pd\n",
    "import autoreload\n",
    "import sys\n",
    "sys.path.append(root_path + \"library/\")\n",
    "\n",
    "%load_ext autoreload\n",
    "%autoreload 2\n",
    "\n",
    "# Data preprocessing custom package\n",
    "import text_preprocessing\n",
    "from text_preprocessing import Preprocessor\n",
    "\n",
    "pt = Preprocessor()\n",
    "\n",
    "# essentials\n",
    "import numpy as np\n",
    "from tqdm import tqdm\n",
    "import pickle\n",
    "import pickle as pkl\n",
    "from scipy import sparse\n",
    "from numpy import asarray\n",
    "from numpy import savetxt"
   ]
  },
  {
   "cell_type": "code",
   "execution_count": 3,
   "metadata": {
    "application/vnd.databricks.v1+cell": {
     "inputWidgets": {},
     "nuid": "3b36771a-721e-4213-a2f6-0ec8857095f8",
     "showTitle": false,
     "title": ""
    }
   },
   "outputs": [],
   "source": [
    "import numpy as np\n",
    "import pickle\n",
    "\n",
    "# To read the files\n",
    "X_train, X_val, y_train, y_val = np.load(open(root_path + \"data/intermediate/MBTI_datasplit_v4_partial_samepost.pkl\", \"rb\"), allow_pickle=True)\n",
    "data = pickle.load(open(root_path + \"data/intermediate/MBTI_data_before_split_v4_partial_samepost.pkl\", \"rb\"))"
   ]
  },
  {
   "cell_type": "code",
   "execution_count": 4,
   "metadata": {},
   "outputs": [
    {
     "name": "stdout",
     "output_type": "stream",
     "text": [
      "Training set size:  6936\n",
      "Validation set size:  1735\n"
     ]
    }
   ],
   "source": [
    "print (\"Training set size: \", X_train.size)\n",
    "print (\"Validation set size: \", X_val.size)"
   ]
  },
  {
   "cell_type": "markdown",
   "metadata": {
    "application/vnd.databricks.v1+cell": {
     "inputWidgets": {},
     "nuid": "c9a57804-9cbf-408f-877b-05b0e4dd3fcf",
     "showTitle": false,
     "title": ""
    }
   },
   "source": [
    "# Feature Engineering - Vectorize"
   ]
  },
  {
   "cell_type": "code",
   "execution_count": 5,
   "metadata": {},
   "outputs": [],
   "source": [
    "from sklearn.feature_extraction.text import TfidfVectorizer\n",
    "\n",
    "\n",
    "vectorizer = TfidfVectorizer(ngram_range=(1,3))\n",
    "\n",
    "corpus = list(data['post'])\n",
    "vocabulary = vectorizer.fit_transform(corpus) \n",
    "\n",
    "X_train_vec = vectorizer.transform(list(data.loc[X_train]['post']))\n",
    "X_val_vec = vectorizer.transform(list(data.loc[X_val]['post']))"
   ]
  },
  {
   "cell_type": "code",
   "execution_count": 6,
   "metadata": {},
   "outputs": [],
   "source": [
    "from sklearn.decomposition import TruncatedSVD\n",
    "\n",
    "svd = TruncatedSVD(n_components=100, n_iter=7, random_state=42)\n",
    "vocab_red_svd = svd.fit_transform(vocabulary)"
   ]
  },
  {
   "cell_type": "code",
   "execution_count": 7,
   "metadata": {},
   "outputs": [
    {
     "name": "stdout",
     "output_type": "stream",
     "text": [
      "Before reduction dim of training and val set:  6613227    6613227\n",
      "After reduction dim of training and val set:  100   100\n"
     ]
    }
   ],
   "source": [
    "print (\"Before reduction dim of training and val set: \", X_train_vec.shape[1],\"  \", X_val_vec.shape[1])\n",
    "X_train_vec_red_svd = svd.transform(X_train_vec)\n",
    "X_val_vec_red_svd = svd.transform(X_val_vec)\n",
    "print (\"After reduction dim of training and val set: \", X_train_vec_red_svd.shape[1],\" \", X_val_vec_red_svd.shape[1])"
   ]
  },
  {
   "cell_type": "code",
   "execution_count": null,
   "metadata": {},
   "outputs": [],
   "source": [
    "# # to support MNB - no negative features\n",
    "\n",
    "# from sklearn.preprocessing import MinMaxScaler\n",
    "\n",
    "# scaler = MinMaxScaler()\n",
    "# X_train_vec_red_svd = scaler.fit_transform(X_train_vec_red_svd)\n",
    "# X_val_vec_red_svd = scaler.transform(X_val_vec_red_svd)"
   ]
  },
  {
   "cell_type": "code",
   "execution_count": null,
   "metadata": {},
   "outputs": [],
   "source": [
    "# # Another approach to reduce dimenstions # TO DO: compare\n",
    "\n",
    "\n",
    "# from sklearn.feature_selection import SelectPercentile, chi2\n",
    "\n",
    "# X_train_red = SelectPercentile(chi2, percentile=10).fit_transform(X_train_vec, y_train).toarray()\n",
    "# X_val_red = SelectPercentile(chi2, percentile=10).fit_transform(X_val_vec, y_val).toarray()"
   ]
  },
  {
   "cell_type": "code",
   "execution_count": 28,
   "metadata": {},
   "outputs": [],
   "source": [
    "from imblearn.over_sampling import SMOTE\n",
    "\n",
    "smote = SMOTE(sampling_strategy='auto')\n",
    "X_train_sampled, y_train_sampled = smote.fit_sample(X_train_vec_red_svd, y_train)\n",
    "X_val_sampled, y_val_sampled = smote.fit_sample(X_val_vec_red_svd, y_val)"
   ]
  },
  {
   "cell_type": "code",
   "execution_count": 29,
   "metadata": {},
   "outputs": [
    {
     "name": "stdout",
     "output_type": "stream",
     "text": [
      "before resampling:  6936    1735\n",
      "after resampling:  23440    5856\n"
     ]
    }
   ],
   "source": [
    "print (\"before resampling: \", X_train_vec_red_svd.shape[0], \"  \", X_val_vec_red_svd.shape[0])\n",
    "print (\"after resampling: \", X_train_sampled.shape[0], \"  \", X_val_sampled.shape[0])"
   ]
  },
  {
   "cell_type": "code",
   "execution_count": 32,
   "metadata": {},
   "outputs": [
    {
     "name": "stderr",
     "output_type": "stream",
     "text": [
      "/Users/sa/.venv/dl/lib/python3.8/site-packages/numpy/core/_asarray.py:83: VisibleDeprecationWarning: Creating an ndarray from ragged nested sequences (which is a list-or-tuple of lists-or-tuples-or ndarrays with different lengths or shapes) is deprecated. If you meant to do this, you must specify 'dtype=object' when creating the ndarray\n",
      "  return array(a, dtype, copy=False, order=order)\n"
     ]
    }
   ],
   "source": [
    "# store intermediate data results.\n",
    "\n",
    "np.save(open(root_path + \"data/intermediate/MBTI_datasplit_v4_features.pkl\", \"wb\"), np.asarray([X_train_sampled, X_val_sampled, y_train_sampled, y_val_sampled]))"
   ]
  },
  {
   "cell_type": "code",
   "execution_count": null,
   "metadata": {},
   "outputs": [],
   "source": []
  }
 ],
 "metadata": {
  "application/vnd.databricks.v1+notebook": {
   "dashboards": [],
   "language": "python",
   "notebookName": "fe_final",
   "notebookOrigID": 7419599,
   "widgets": {}
  },
  "kernelspec": {
   "display_name": "dl",
   "language": "python",
   "name": "dl"
  },
  "language_info": {
   "codemirror_mode": {
    "name": "ipython",
    "version": 3
   },
   "file_extension": ".py",
   "mimetype": "text/x-python",
   "name": "python",
   "nbconvert_exporter": "python",
   "pygments_lexer": "ipython3",
   "version": "3.8.5"
  }
 },
 "nbformat": 4,
 "nbformat_minor": 4
}
